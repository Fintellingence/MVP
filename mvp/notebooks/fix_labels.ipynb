{
 "metadata": {
  "language_info": {
   "codemirror_mode": {
    "name": "ipython",
    "version": 3
   },
   "file_extension": ".py",
   "mimetype": "text/x-python",
   "name": "python",
   "nbconvert_exporter": "python",
   "pygments_lexer": "ipython3",
   "version": "3.8.5-final"
  },
  "orig_nbformat": 2,
  "kernelspec": {
   "name": "python38564bit543ab50c907c43958a2a00c02160e790",
   "display_name": "Python 3.8.5 64-bit",
   "language": "python"
  }
 },
 "nbformat": 4,
 "nbformat_minor": 2,
 "cells": [
  {
   "cell_type": "code",
   "execution_count": 1,
   "metadata": {},
   "outputs": [],
   "source": [
    "import mvp\n",
    "import pandas as pd\n",
    "import numpy as np\n",
    "import datetime as dt\n",
    "import matplotlib.pyplot as plt\n",
    "DB_PATH = '/home/naga/FintelligenceData/MetaTrader_M1.db'\n",
    "petr3_raw = mvp.rawdata.RawData('PETR3',DB_PATH)\n",
    "petr3_raw.df = petr3_raw.change_sample_interval(start = pd.Timestamp('2017-01-20 10:15:00'),stop = pd.Timestamp('2020-12-20 10:15:00'),time_step=60)"
   ]
  },
  {
   "cell_type": "code",
   "execution_count": 3,
   "metadata": {},
   "outputs": [],
   "source": [
    "parameters = {'ModelParameters':{'MA':[50,150]}, 'OperationParameters':{'SL': 0.10, 'TP': 0.30, 'IH': 1000}}\n",
    "model = mvp.primary.PrimaryModel(petr3_raw,'crossing-MA',parameters)"
   ]
  },
  {
   "cell_type": "code",
   "execution_count": 4,
   "metadata": {},
   "outputs": [
    {
     "output_type": "execute_result",
     "data": {
      "text/plain": [
       "                     Close  Trigger\n",
       "DateTime                           \n",
       "2017-01-20 12:00:00  17.47      NaN\n",
       "2017-01-20 13:00:00  17.43      NaN\n",
       "2017-01-20 14:00:00  17.54      NaN\n",
       "2017-01-20 15:00:00  17.48      NaN\n",
       "2017-01-20 16:00:00  17.40      NaN\n",
       "...                    ...      ...\n",
       "2020-11-30 13:00:00  26.24      NaN\n",
       "2020-11-30 14:00:00  25.64      NaN\n",
       "2020-11-30 15:00:00  25.94      NaN\n",
       "2020-11-30 16:00:00  25.71      NaN\n",
       "2020-11-30 17:00:00  25.81      NaN\n",
       "\n",
       "[5097 rows x 2 columns]"
      ],
      "text/html": "<div>\n<style scoped>\n    .dataframe tbody tr th:only-of-type {\n        vertical-align: middle;\n    }\n\n    .dataframe tbody tr th {\n        vertical-align: top;\n    }\n\n    .dataframe thead th {\n        text-align: right;\n    }\n</style>\n<table border=\"1\" class=\"dataframe\">\n  <thead>\n    <tr style=\"text-align: right;\">\n      <th></th>\n      <th>Close</th>\n      <th>Trigger</th>\n    </tr>\n    <tr>\n      <th>DateTime</th>\n      <th></th>\n      <th></th>\n    </tr>\n  </thead>\n  <tbody>\n    <tr>\n      <th>2017-01-20 12:00:00</th>\n      <td>17.47</td>\n      <td>NaN</td>\n    </tr>\n    <tr>\n      <th>2017-01-20 13:00:00</th>\n      <td>17.43</td>\n      <td>NaN</td>\n    </tr>\n    <tr>\n      <th>2017-01-20 14:00:00</th>\n      <td>17.54</td>\n      <td>NaN</td>\n    </tr>\n    <tr>\n      <th>2017-01-20 15:00:00</th>\n      <td>17.48</td>\n      <td>NaN</td>\n    </tr>\n    <tr>\n      <th>2017-01-20 16:00:00</th>\n      <td>17.40</td>\n      <td>NaN</td>\n    </tr>\n    <tr>\n      <th>...</th>\n      <td>...</td>\n      <td>...</td>\n    </tr>\n    <tr>\n      <th>2020-11-30 13:00:00</th>\n      <td>26.24</td>\n      <td>NaN</td>\n    </tr>\n    <tr>\n      <th>2020-11-30 14:00:00</th>\n      <td>25.64</td>\n      <td>NaN</td>\n    </tr>\n    <tr>\n      <th>2020-11-30 15:00:00</th>\n      <td>25.94</td>\n      <td>NaN</td>\n    </tr>\n    <tr>\n      <th>2020-11-30 16:00:00</th>\n      <td>25.71</td>\n      <td>NaN</td>\n    </tr>\n    <tr>\n      <th>2020-11-30 17:00:00</th>\n      <td>25.81</td>\n      <td>NaN</td>\n    </tr>\n  </tbody>\n</table>\n<p>5097 rows × 2 columns</p>\n</div>"
     },
     "metadata": {},
     "execution_count": 4
    }
   ],
   "source": [
    "model.events_df"
   ]
  },
  {
   "cell_type": "code",
   "execution_count": 7,
   "metadata": {},
   "outputs": [],
   "source": [
    "test = mvp.labels.Labels(model.events_df,{'SL': 0.10, 'TP': 0.30, 'IH': 1000},'suggestion')"
   ]
  },
  {
   "cell_type": "code",
   "execution_count": 8,
   "metadata": {},
   "outputs": [
    {
     "output_type": "execute_result",
     "data": {
      "text/plain": [
       "                     Suggestion  Label         EndDateTime\n",
       "DateTime                                                  \n",
       "2017-03-03 16:00:00        -1.0    1.0 2017-03-06 13:00:00\n",
       "2017-04-07 12:00:00         1.0   -1.0 2017-04-11 12:00:00\n",
       "2017-04-26 15:00:00        -1.0    1.0 2017-04-27 12:00:00\n",
       "2017-05-15 13:00:00         1.0   -1.0 2017-05-16 12:00:00\n",
       "2017-05-30 14:00:00        -1.0    1.0 2017-05-31 12:00:00\n",
       "2017-07-20 14:00:00         1.0   -1.0 2017-07-21 12:00:00\n",
       "2017-11-21 15:00:00        -1.0    1.0 2017-11-21 17:00:00\n",
       "2017-12-27 15:00:00         1.0    1.0 2018-01-02 14:00:00\n",
       "2018-04-06 12:00:00        -1.0    1.0 2018-04-09 14:00:00\n",
       "2018-04-16 13:00:00         1.0   -1.0 2018-04-16 15:00:00\n",
       "2018-06-01 12:00:00        -1.0    1.0 2018-06-01 13:00:00\n",
       "2018-07-06 15:00:00         1.0    1.0 2018-07-11 12:00:00\n",
       "2018-08-22 15:00:00        -1.0    1.0 2018-08-23 12:00:00\n",
       "2018-09-17 12:00:00         1.0   -1.0 2018-09-17 13:00:00\n",
       "2018-11-14 14:00:00        -1.0   -1.0 2018-11-14 15:00:00\n",
       "2018-12-07 16:00:00         1.0   -1.0 2018-12-07 17:00:00\n",
       "2018-12-13 12:00:00        -1.0   -1.0 2018-12-14 14:00:00\n",
       "2019-01-09 14:00:00         1.0   -1.0 2019-01-10 12:00:00\n",
       "2019-03-07 18:00:00        -1.0    1.0 2019-03-08 12:00:00\n",
       "2019-03-19 14:00:00         1.0    1.0 2019-03-20 12:00:00\n",
       "2019-04-18 13:00:00        -1.0   -1.0 2019-04-22 14:00:00\n",
       "2019-06-07 16:00:00         1.0   -1.0 2019-06-10 12:00:00\n",
       "2019-07-25 16:00:00        -1.0    1.0 2019-07-26 12:00:00\n",
       "2019-09-06 14:00:00         1.0    1.0 2019-09-09 12:00:00\n",
       "2019-10-09 12:00:00        -1.0   -1.0 2019-10-09 16:00:00\n",
       "2019-10-22 16:00:00         1.0    1.0 2019-10-23 12:00:00\n",
       "2019-11-26 16:00:00        -1.0   -1.0 2019-11-27 16:00:00\n",
       "2019-12-13 12:00:00         1.0   -1.0 2019-12-13 13:00:00\n",
       "2020-01-15 16:00:00        -1.0    1.0 2020-01-16 12:00:00\n",
       "2020-02-12 15:00:00         1.0   -1.0 2020-02-13 12:00:00\n",
       "2020-02-27 18:00:00        -1.0    1.0 2020-02-28 12:00:00\n",
       "2020-04-15 14:00:00         1.0   -1.0 2020-04-16 12:00:00\n",
       "2020-08-26 14:00:00        -1.0    1.0 2020-08-26 15:00:00\n",
       "2020-11-10 14:00:00         1.0   -1.0 2020-11-11 13:00:00"
      ],
      "text/html": "<div>\n<style scoped>\n    .dataframe tbody tr th:only-of-type {\n        vertical-align: middle;\n    }\n\n    .dataframe tbody tr th {\n        vertical-align: top;\n    }\n\n    .dataframe thead th {\n        text-align: right;\n    }\n</style>\n<table border=\"1\" class=\"dataframe\">\n  <thead>\n    <tr style=\"text-align: right;\">\n      <th></th>\n      <th>Suggestion</th>\n      <th>Label</th>\n      <th>EndDateTime</th>\n    </tr>\n    <tr>\n      <th>DateTime</th>\n      <th></th>\n      <th></th>\n      <th></th>\n    </tr>\n  </thead>\n  <tbody>\n    <tr>\n      <th>2017-03-03 16:00:00</th>\n      <td>-1.0</td>\n      <td>1.0</td>\n      <td>2017-03-06 13:00:00</td>\n    </tr>\n    <tr>\n      <th>2017-04-07 12:00:00</th>\n      <td>1.0</td>\n      <td>-1.0</td>\n      <td>2017-04-11 12:00:00</td>\n    </tr>\n    <tr>\n      <th>2017-04-26 15:00:00</th>\n      <td>-1.0</td>\n      <td>1.0</td>\n      <td>2017-04-27 12:00:00</td>\n    </tr>\n    <tr>\n      <th>2017-05-15 13:00:00</th>\n      <td>1.0</td>\n      <td>-1.0</td>\n      <td>2017-05-16 12:00:00</td>\n    </tr>\n    <tr>\n      <th>2017-05-30 14:00:00</th>\n      <td>-1.0</td>\n      <td>1.0</td>\n      <td>2017-05-31 12:00:00</td>\n    </tr>\n    <tr>\n      <th>2017-07-20 14:00:00</th>\n      <td>1.0</td>\n      <td>-1.0</td>\n      <td>2017-07-21 12:00:00</td>\n    </tr>\n    <tr>\n      <th>2017-11-21 15:00:00</th>\n      <td>-1.0</td>\n      <td>1.0</td>\n      <td>2017-11-21 17:00:00</td>\n    </tr>\n    <tr>\n      <th>2017-12-27 15:00:00</th>\n      <td>1.0</td>\n      <td>1.0</td>\n      <td>2018-01-02 14:00:00</td>\n    </tr>\n    <tr>\n      <th>2018-04-06 12:00:00</th>\n      <td>-1.0</td>\n      <td>1.0</td>\n      <td>2018-04-09 14:00:00</td>\n    </tr>\n    <tr>\n      <th>2018-04-16 13:00:00</th>\n      <td>1.0</td>\n      <td>-1.0</td>\n      <td>2018-04-16 15:00:00</td>\n    </tr>\n    <tr>\n      <th>2018-06-01 12:00:00</th>\n      <td>-1.0</td>\n      <td>1.0</td>\n      <td>2018-06-01 13:00:00</td>\n    </tr>\n    <tr>\n      <th>2018-07-06 15:00:00</th>\n      <td>1.0</td>\n      <td>1.0</td>\n      <td>2018-07-11 12:00:00</td>\n    </tr>\n    <tr>\n      <th>2018-08-22 15:00:00</th>\n      <td>-1.0</td>\n      <td>1.0</td>\n      <td>2018-08-23 12:00:00</td>\n    </tr>\n    <tr>\n      <th>2018-09-17 12:00:00</th>\n      <td>1.0</td>\n      <td>-1.0</td>\n      <td>2018-09-17 13:00:00</td>\n    </tr>\n    <tr>\n      <th>2018-11-14 14:00:00</th>\n      <td>-1.0</td>\n      <td>-1.0</td>\n      <td>2018-11-14 15:00:00</td>\n    </tr>\n    <tr>\n      <th>2018-12-07 16:00:00</th>\n      <td>1.0</td>\n      <td>-1.0</td>\n      <td>2018-12-07 17:00:00</td>\n    </tr>\n    <tr>\n      <th>2018-12-13 12:00:00</th>\n      <td>-1.0</td>\n      <td>-1.0</td>\n      <td>2018-12-14 14:00:00</td>\n    </tr>\n    <tr>\n      <th>2019-01-09 14:00:00</th>\n      <td>1.0</td>\n      <td>-1.0</td>\n      <td>2019-01-10 12:00:00</td>\n    </tr>\n    <tr>\n      <th>2019-03-07 18:00:00</th>\n      <td>-1.0</td>\n      <td>1.0</td>\n      <td>2019-03-08 12:00:00</td>\n    </tr>\n    <tr>\n      <th>2019-03-19 14:00:00</th>\n      <td>1.0</td>\n      <td>1.0</td>\n      <td>2019-03-20 12:00:00</td>\n    </tr>\n    <tr>\n      <th>2019-04-18 13:00:00</th>\n      <td>-1.0</td>\n      <td>-1.0</td>\n      <td>2019-04-22 14:00:00</td>\n    </tr>\n    <tr>\n      <th>2019-06-07 16:00:00</th>\n      <td>1.0</td>\n      <td>-1.0</td>\n      <td>2019-06-10 12:00:00</td>\n    </tr>\n    <tr>\n      <th>2019-07-25 16:00:00</th>\n      <td>-1.0</td>\n      <td>1.0</td>\n      <td>2019-07-26 12:00:00</td>\n    </tr>\n    <tr>\n      <th>2019-09-06 14:00:00</th>\n      <td>1.0</td>\n      <td>1.0</td>\n      <td>2019-09-09 12:00:00</td>\n    </tr>\n    <tr>\n      <th>2019-10-09 12:00:00</th>\n      <td>-1.0</td>\n      <td>-1.0</td>\n      <td>2019-10-09 16:00:00</td>\n    </tr>\n    <tr>\n      <th>2019-10-22 16:00:00</th>\n      <td>1.0</td>\n      <td>1.0</td>\n      <td>2019-10-23 12:00:00</td>\n    </tr>\n    <tr>\n      <th>2019-11-26 16:00:00</th>\n      <td>-1.0</td>\n      <td>-1.0</td>\n      <td>2019-11-27 16:00:00</td>\n    </tr>\n    <tr>\n      <th>2019-12-13 12:00:00</th>\n      <td>1.0</td>\n      <td>-1.0</td>\n      <td>2019-12-13 13:00:00</td>\n    </tr>\n    <tr>\n      <th>2020-01-15 16:00:00</th>\n      <td>-1.0</td>\n      <td>1.0</td>\n      <td>2020-01-16 12:00:00</td>\n    </tr>\n    <tr>\n      <th>2020-02-12 15:00:00</th>\n      <td>1.0</td>\n      <td>-1.0</td>\n      <td>2020-02-13 12:00:00</td>\n    </tr>\n    <tr>\n      <th>2020-02-27 18:00:00</th>\n      <td>-1.0</td>\n      <td>1.0</td>\n      <td>2020-02-28 12:00:00</td>\n    </tr>\n    <tr>\n      <th>2020-04-15 14:00:00</th>\n      <td>1.0</td>\n      <td>-1.0</td>\n      <td>2020-04-16 12:00:00</td>\n    </tr>\n    <tr>\n      <th>2020-08-26 14:00:00</th>\n      <td>-1.0</td>\n      <td>1.0</td>\n      <td>2020-08-26 15:00:00</td>\n    </tr>\n    <tr>\n      <th>2020-11-10 14:00:00</th>\n      <td>1.0</td>\n      <td>-1.0</td>\n      <td>2020-11-11 13:00:00</td>\n    </tr>\n  </tbody>\n</table>\n</div>"
     },
     "metadata": {},
     "execution_count": 8
    }
   ],
   "source": [
    "test.labeled_df"
   ]
  },
  {
   "cell_type": "code",
   "execution_count": null,
   "metadata": {},
   "outputs": [],
   "source": []
  }
 ]
}
{
 "metadata": {
  "language_info": {
   "codemirror_mode": {
    "name": "ipython",
    "version": 3
   },
   "file_extension": ".py",
   "mimetype": "text/x-python",
   "name": "python",
   "nbconvert_exporter": "python",
   "pygments_lexer": "ipython3",
   "version": "3.8.5-final"
  },
  "orig_nbformat": 2,
  "kernelspec": {
   "name": "python38564bitfintelligence4ec7eb9d95ae48468d06393babb21631",
   "display_name": "Python 3.8.5 64-bit ('fintelligence')",
   "language": "python"
  }
 },
 "nbformat": 4,
 "nbformat_minor": 2,
 "cells": [
  {
   "cell_type": "code",
   "execution_count": 1,
   "metadata": {},
   "outputs": [],
   "source": [
    "import mvp\n",
    "import pandas as pd\n",
    "import numpy as np\n",
    "import datetime as dt\n",
    "import matplotlib.pyplot as plt\n",
    "DB_PATH = '/home/naga/FintelligenceData/MetaTrader_M1.db'\n",
    "petr3_raw = mvp.rawdata.RawData('PETR3',DB_PATH)\n",
    "petr3_raw.df = petr3_raw.change_sample_interval(start = pd.Timestamp('2017-01-20 10:15:00'),stop = pd.Timestamp('2020-12-20 10:15:00'),time_step=60)"
   ]
  },
  {
   "cell_type": "code",
   "execution_count": 2,
   "metadata": {},
   "outputs": [],
   "source": [
    "parameters = {'ModelParameters':{'MA':[50,150]}, 'OperationParameters':{'SL': 0.10, 'TP': 0.30, 'IH': 1000}}\n",
    "model = mvp.primary.PrimaryModel(petr3_raw,'crossing-MA',parameters)"
   ]
  },
  {
   "cell_type": "code",
   "execution_count": 3,
   "metadata": {},
   "outputs": [],
   "source": [
    "pure_trigger = model.events().set_index('CloseTime')\n",
    "events_df = pd.concat([model.feature_data.df_curated[['Close']],pure_trigger],axis = 1)\n",
    "events_df = events_df.rename_axis('DateTime').copy()"
   ]
  },
  {
   "cell_type": "code",
   "execution_count": 4,
   "metadata": {},
   "outputs": [
    {
     "output_type": "stream",
     "name": "stdout",
     "text": [
      "              DateTime  Trigger\n0  2017-03-03 16:00:00     -1.0\n1  2017-04-07 12:00:00      1.0\n2  2017-04-26 15:00:00     -1.0\n3  2017-05-15 13:00:00      1.0\n4  2017-05-30 14:00:00     -1.0\n5  2017-07-20 14:00:00      1.0\n6  2017-11-21 15:00:00     -1.0\n7  2017-12-27 15:00:00      1.0\n8  2018-04-06 12:00:00     -1.0\n9  2018-04-16 13:00:00      1.0\n10 2018-06-01 12:00:00     -1.0\n11 2018-07-06 15:00:00      1.0\n12 2018-08-22 15:00:00     -1.0\n13 2018-09-17 12:00:00      1.0\n14 2018-11-14 14:00:00     -1.0\n15 2018-12-07 16:00:00      1.0\n16 2018-12-13 12:00:00     -1.0\n17 2019-01-09 14:00:00      1.0\n18 2019-03-07 18:00:00     -1.0\n19 2019-03-19 14:00:00      1.0\n20 2019-04-18 13:00:00     -1.0\n21 2019-06-07 16:00:00      1.0\n22 2019-07-25 16:00:00     -1.0\n23 2019-09-06 14:00:00      1.0\n24 2019-10-09 12:00:00     -1.0\n25 2019-10-22 16:00:00      1.0\n26 2019-11-26 16:00:00     -1.0\n27 2019-12-13 12:00:00      1.0\n28 2020-01-15 16:00:00     -1.0\n29 2020-02-12 15:00:00      1.0\n30 2020-02-27 18:00:00     -1.0\n31 2020-04-15 14:00:00      1.0\n32 2020-08-26 14:00:00     -1.0\n33 2020-11-10 14:00:00      1.0\n"
     ]
    }
   ],
   "source": [
    "test = mvp.labels.Labels(events_df,{'SL': 0.10, 'TP': 0.30, 'IH': 1000})"
   ]
  },
  {
   "cell_type": "code",
   "execution_count": 5,
   "metadata": {},
   "outputs": [
    {
     "output_type": "execute_result",
     "data": {
      "text/plain": [
       "                     Trigger  Label\n",
       "DateTime                           \n",
       "2017-03-03 16:00:00     -1.0    1.0\n",
       "2017-04-07 12:00:00      1.0   -1.0\n",
       "2017-04-26 15:00:00     -1.0    1.0\n",
       "2017-05-15 13:00:00      1.0   -1.0\n",
       "2017-05-30 14:00:00     -1.0    1.0\n",
       "2017-07-20 14:00:00      1.0   -1.0\n",
       "2017-11-21 15:00:00     -1.0    1.0\n",
       "2017-12-27 15:00:00      1.0    1.0\n",
       "2018-04-06 12:00:00     -1.0    1.0\n",
       "2018-04-16 13:00:00      1.0   -1.0\n",
       "2018-06-01 12:00:00     -1.0    1.0\n",
       "2018-07-06 15:00:00      1.0    1.0\n",
       "2018-08-22 15:00:00     -1.0    1.0\n",
       "2018-09-17 12:00:00      1.0   -1.0\n",
       "2018-11-14 14:00:00     -1.0   -1.0\n",
       "2018-12-07 16:00:00      1.0   -1.0\n",
       "2018-12-13 12:00:00     -1.0   -1.0\n",
       "2019-01-09 14:00:00      1.0   -1.0\n",
       "2019-03-07 18:00:00     -1.0    1.0\n",
       "2019-03-19 14:00:00      1.0    1.0\n",
       "2019-04-18 13:00:00     -1.0   -1.0\n",
       "2019-06-07 16:00:00      1.0   -1.0\n",
       "2019-07-25 16:00:00     -1.0    1.0\n",
       "2019-09-06 14:00:00      1.0    1.0\n",
       "2019-10-09 12:00:00     -1.0   -1.0\n",
       "2019-10-22 16:00:00      1.0    1.0\n",
       "2019-11-26 16:00:00     -1.0   -1.0\n",
       "2019-12-13 12:00:00      1.0   -1.0\n",
       "2020-01-15 16:00:00     -1.0    1.0\n",
       "2020-02-12 15:00:00      1.0   -1.0\n",
       "2020-02-27 18:00:00     -1.0    1.0\n",
       "2020-04-15 14:00:00      1.0   -1.0\n",
       "2020-08-26 14:00:00     -1.0    1.0\n",
       "2020-11-10 14:00:00      1.0   -1.0"
      ],
      "text/html": "<div>\n<style scoped>\n    .dataframe tbody tr th:only-of-type {\n        vertical-align: middle;\n    }\n\n    .dataframe tbody tr th {\n        vertical-align: top;\n    }\n\n    .dataframe thead th {\n        text-align: right;\n    }\n</style>\n<table border=\"1\" class=\"dataframe\">\n  <thead>\n    <tr style=\"text-align: right;\">\n      <th></th>\n      <th>Trigger</th>\n      <th>Label</th>\n    </tr>\n    <tr>\n      <th>DateTime</th>\n      <th></th>\n      <th></th>\n    </tr>\n  </thead>\n  <tbody>\n    <tr>\n      <th>2017-03-03 16:00:00</th>\n      <td>-1.0</td>\n      <td>1.0</td>\n    </tr>\n    <tr>\n      <th>2017-04-07 12:00:00</th>\n      <td>1.0</td>\n      <td>-1.0</td>\n    </tr>\n    <tr>\n      <th>2017-04-26 15:00:00</th>\n      <td>-1.0</td>\n      <td>1.0</td>\n    </tr>\n    <tr>\n      <th>2017-05-15 13:00:00</th>\n      <td>1.0</td>\n      <td>-1.0</td>\n    </tr>\n    <tr>\n      <th>2017-05-30 14:00:00</th>\n      <td>-1.0</td>\n      <td>1.0</td>\n    </tr>\n    <tr>\n      <th>2017-07-20 14:00:00</th>\n      <td>1.0</td>\n      <td>-1.0</td>\n    </tr>\n    <tr>\n      <th>2017-11-21 15:00:00</th>\n      <td>-1.0</td>\n      <td>1.0</td>\n    </tr>\n    <tr>\n      <th>2017-12-27 15:00:00</th>\n      <td>1.0</td>\n      <td>1.0</td>\n    </tr>\n    <tr>\n      <th>2018-04-06 12:00:00</th>\n      <td>-1.0</td>\n      <td>1.0</td>\n    </tr>\n    <tr>\n      <th>2018-04-16 13:00:00</th>\n      <td>1.0</td>\n      <td>-1.0</td>\n    </tr>\n    <tr>\n      <th>2018-06-01 12:00:00</th>\n      <td>-1.0</td>\n      <td>1.0</td>\n    </tr>\n    <tr>\n      <th>2018-07-06 15:00:00</th>\n      <td>1.0</td>\n      <td>1.0</td>\n    </tr>\n    <tr>\n      <th>2018-08-22 15:00:00</th>\n      <td>-1.0</td>\n      <td>1.0</td>\n    </tr>\n    <tr>\n      <th>2018-09-17 12:00:00</th>\n      <td>1.0</td>\n      <td>-1.0</td>\n    </tr>\n    <tr>\n      <th>2018-11-14 14:00:00</th>\n      <td>-1.0</td>\n      <td>-1.0</td>\n    </tr>\n    <tr>\n      <th>2018-12-07 16:00:00</th>\n      <td>1.0</td>\n      <td>-1.0</td>\n    </tr>\n    <tr>\n      <th>2018-12-13 12:00:00</th>\n      <td>-1.0</td>\n      <td>-1.0</td>\n    </tr>\n    <tr>\n      <th>2019-01-09 14:00:00</th>\n      <td>1.0</td>\n      <td>-1.0</td>\n    </tr>\n    <tr>\n      <th>2019-03-07 18:00:00</th>\n      <td>-1.0</td>\n      <td>1.0</td>\n    </tr>\n    <tr>\n      <th>2019-03-19 14:00:00</th>\n      <td>1.0</td>\n      <td>1.0</td>\n    </tr>\n    <tr>\n      <th>2019-04-18 13:00:00</th>\n      <td>-1.0</td>\n      <td>-1.0</td>\n    </tr>\n    <tr>\n      <th>2019-06-07 16:00:00</th>\n      <td>1.0</td>\n      <td>-1.0</td>\n    </tr>\n    <tr>\n      <th>2019-07-25 16:00:00</th>\n      <td>-1.0</td>\n      <td>1.0</td>\n    </tr>\n    <tr>\n      <th>2019-09-06 14:00:00</th>\n      <td>1.0</td>\n      <td>1.0</td>\n    </tr>\n    <tr>\n      <th>2019-10-09 12:00:00</th>\n      <td>-1.0</td>\n      <td>-1.0</td>\n    </tr>\n    <tr>\n      <th>2019-10-22 16:00:00</th>\n      <td>1.0</td>\n      <td>1.0</td>\n    </tr>\n    <tr>\n      <th>2019-11-26 16:00:00</th>\n      <td>-1.0</td>\n      <td>-1.0</td>\n    </tr>\n    <tr>\n      <th>2019-12-13 12:00:00</th>\n      <td>1.0</td>\n      <td>-1.0</td>\n    </tr>\n    <tr>\n      <th>2020-01-15 16:00:00</th>\n      <td>-1.0</td>\n      <td>1.0</td>\n    </tr>\n    <tr>\n      <th>2020-02-12 15:00:00</th>\n      <td>1.0</td>\n      <td>-1.0</td>\n    </tr>\n    <tr>\n      <th>2020-02-27 18:00:00</th>\n      <td>-1.0</td>\n      <td>1.0</td>\n    </tr>\n    <tr>\n      <th>2020-04-15 14:00:00</th>\n      <td>1.0</td>\n      <td>-1.0</td>\n    </tr>\n    <tr>\n      <th>2020-08-26 14:00:00</th>\n      <td>-1.0</td>\n      <td>1.0</td>\n    </tr>\n    <tr>\n      <th>2020-11-10 14:00:00</th>\n      <td>1.0</td>\n      <td>-1.0</td>\n    </tr>\n  </tbody>\n</table>\n</div>"
     },
     "metadata": {},
     "execution_count": 5
    }
   ],
   "source": [
    "test.labeled_df"
   ]
  },
  {
   "cell_type": "code",
   "execution_count": null,
   "metadata": {},
   "outputs": [],
   "source": []
  }
 ]
}
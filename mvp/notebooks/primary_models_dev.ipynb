{
 "cells": [
  {
   "cell_type": "code",
   "execution_count": 67,
   "id": "engaging-charity",
   "metadata": {},
   "outputs": [],
   "source": [
    "import mvp\n",
    "import pandas as pd\n",
    "import numpy as np\n",
    "import datetime as dt\n",
    "DB_PATH = '/home/naga/FintelligenceData/MetaTrader_M1.db'\n",
    "petr3_raw = mvp.rawdata.RawData('PETR3',DB_PATH)\n",
    "parameters = {'ModelParameters':{'MA':[500,1000]}, 'OperationParameters':{'SL': 0.01, 'TP': 0.01, 'IH': 1000}}\n",
    "model = mvp.primary.PrimaryModel(petr3_raw,'crossing-MA',parameters)"
   ]
  },
  {
   "cell_type": "code",
   "execution_count": 68,
   "metadata": {},
   "outputs": [],
   "source": [
    "horizon_sample = model.labels_standard(model.events_crossing_MA())"
   ]
  },
  {
   "cell_type": "code",
   "execution_count": 70,
   "metadata": {},
   "outputs": [
    {
     "output_type": "execute_result",
     "data": {
      "text/plain": [
       "DateTime\n",
       "2015-12-04 15:00:00    1.0\n",
       "2015-12-09 13:26:00   -1.0\n",
       "2015-12-11 12:14:00    1.0\n",
       "2015-12-15 14:36:00   -1.0\n",
       "2015-12-18 11:58:00    1.0\n",
       "                      ... \n",
       "2020-11-19 14:48:00    1.0\n",
       "2020-11-20 16:08:00   -1.0\n",
       "2020-11-26 10:52:00    1.0\n",
       "2020-11-27 16:31:00   -1.0\n",
       "2020-11-30 14:00:00    1.0\n",
       "Name: Delta, Length: 591, dtype: float64"
      ]
     },
     "metadata": {},
     "execution_count": 70
    }
   ],
   "source": [
    "model.events_crossing_MA()"
   ]
  },
  {
   "cell_type": "code",
   "execution_count": 8,
   "metadata": {},
   "outputs": [],
   "source": [
    "losses = horizon_sample[horizon_sample['Close'].lt(horizon_sample.iloc[0]['Close'] - 0.01)]"
   ]
  },
  {
   "cell_type": "code",
   "execution_count": 9,
   "metadata": {},
   "outputs": [],
   "source": [
    "profits = horizon_sample[horizon_sample['Close'].gt(horizon_sample.iloc[0]['Close'] + 0.01)]"
   ]
  },
  {
   "cell_type": "code",
   "execution_count": 11,
   "metadata": {},
   "outputs": [
    {
     "output_type": "execute_result",
     "data": {
      "text/plain": [
       "DateTime    2015-12-09 13:28:00\n",
       "Close                      9.26\n",
       "Name: 2, dtype: object"
      ]
     },
     "metadata": {},
     "execution_count": 11
    }
   ],
   "source": [
    "losses.iloc[0]"
   ]
  },
  {
   "cell_type": "code",
   "execution_count": 13,
   "metadata": {},
   "outputs": [
    {
     "output_type": "execute_result",
     "data": {
      "text/plain": [
       "DateTime    2015-12-09 13:30:00\n",
       "Close                       9.3\n",
       "Name: 4, dtype: object"
      ]
     },
     "metadata": {},
     "execution_count": 13
    }
   ],
   "source": [
    "profits.iloc[0]"
   ]
  },
  {
   "cell_type": "code",
   "execution_count": 27,
   "metadata": {},
   "outputs": [
    {
     "output_type": "execute_result",
     "data": {
      "text/plain": [
       "False"
      ]
     },
     "metadata": {},
     "execution_count": 27
    }
   ],
   "source": [
    "losses.iloc[1]['DateTime'] > profits.iloc[0]['DateTime']"
   ]
  },
  {
   "cell_type": "code",
   "execution_count": 28,
   "metadata": {},
   "outputs": [
    {
     "output_type": "execute_result",
     "data": {
      "text/plain": [
       "              DateTime  Close\n",
       "2  2015-12-09 13:28:00   9.26\n",
       "3  2015-12-09 13:29:00   9.19\n",
       "11 2015-12-09 13:37:00   9.26\n",
       "12 2015-12-09 13:38:00   9.25"
      ],
      "text/html": "<div>\n<style scoped>\n    .dataframe tbody tr th:only-of-type {\n        vertical-align: middle;\n    }\n\n    .dataframe tbody tr th {\n        vertical-align: top;\n    }\n\n    .dataframe thead th {\n        text-align: right;\n    }\n</style>\n<table border=\"1\" class=\"dataframe\">\n  <thead>\n    <tr style=\"text-align: right;\">\n      <th></th>\n      <th>DateTime</th>\n      <th>Close</th>\n    </tr>\n  </thead>\n  <tbody>\n    <tr>\n      <th>2</th>\n      <td>2015-12-09 13:28:00</td>\n      <td>9.26</td>\n    </tr>\n    <tr>\n      <th>3</th>\n      <td>2015-12-09 13:29:00</td>\n      <td>9.19</td>\n    </tr>\n    <tr>\n      <th>11</th>\n      <td>2015-12-09 13:37:00</td>\n      <td>9.26</td>\n    </tr>\n    <tr>\n      <th>12</th>\n      <td>2015-12-09 13:38:00</td>\n      <td>9.25</td>\n    </tr>\n  </tbody>\n</table>\n</div>"
     },
     "metadata": {},
     "execution_count": 28
    }
   ],
   "source": [
    "losses.head(4)"
   ]
  },
  {
   "cell_type": "code",
   "execution_count": 61,
   "metadata": {},
   "outputs": [],
   "source": [
    "profit_touch = profits.iloc[0]['DateTime']"
   ]
  },
  {
   "cell_type": "code",
   "execution_count": 42,
   "metadata": {},
   "outputs": [],
   "source": [
    "def labels(touches):\n",
    "    if touches[0] == touches[1]:\n",
    "        return 0\n",
    "    else:\n",
    "        if touches[0] < touches[1]:\n",
    "            return 1\n",
    "        else:\n",
    "            return -1"
   ]
  },
  {
   "cell_type": "code",
   "execution_count": 65,
   "metadata": {},
   "outputs": [],
   "source": [
    "touches = list(map(lambda x: dt.datetime(3000,1,1,0,0,0) if x == None else x,[profit_touch, None]))"
   ]
  },
  {
   "cell_type": "code",
   "execution_count": 66,
   "metadata": {},
   "outputs": [
    {
     "output_type": "execute_result",
     "data": {
      "text/plain": [
       "[Timestamp('2015-12-09 13:30:00'), datetime.datetime(3000, 1, 1, 0, 0)]"
      ]
     },
     "metadata": {},
     "execution_count": 66
    }
   ],
   "source": [
    "touches"
   ]
  },
  {
   "cell_type": "code",
   "execution_count": 53,
   "metadata": {},
   "outputs": [
    {
     "output_type": "execute_result",
     "data": {
      "text/plain": [
       "[Timestamp('2015-12-09 13:30:00'), Timestamp('2015-12-09 13:28:00')]"
      ]
     },
     "metadata": {},
     "execution_count": 53
    }
   ],
   "source": [
    "touches"
   ]
  },
  {
   "cell_type": "code",
   "execution_count": null,
   "metadata": {},
   "outputs": [],
   "source": []
  }
 ],
 "metadata": {
  "kernelspec": {
   "display_name": "Python 3",
   "language": "python",
   "name": "python3"
  },
  "language_info": {
   "codemirror_mode": {
    "name": "ipython",
    "version": 3
   },
   "file_extension": ".py",
   "mimetype": "text/x-python",
   "name": "python",
   "nbconvert_exporter": "python",
   "pygments_lexer": "ipython3",
   "version": "3.8.5-final"
  }
 },
 "nbformat": 4,
 "nbformat_minor": 5
}
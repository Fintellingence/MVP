{
 "cells": [
  {
   "cell_type": "code",
   "execution_count": 1,
   "id": "engaging-charity",
   "metadata": {},
   "outputs": [],
   "source": [
    "import mvp\n",
    "import pandas as pd\n",
    "import numpy as np"
   ]
  },
  {
   "cell_type": "code",
   "execution_count": 2,
   "id": "returning-antibody",
   "metadata": {},
   "outputs": [],
   "source": [
    "DB_PATH = '/home/naga/FintelligenceData/MetaTrader_M1.db'"
   ]
  },
  {
   "cell_type": "code",
   "execution_count": 3,
   "id": "amino-immunology",
   "metadata": {},
   "outputs": [],
   "source": [
    "petr3_raw = mvp.rawdata.RawData('PETR3',DB_PATH)"
   ]
  },
  {
   "cell_type": "code",
   "execution_count": 4,
   "id": "rocky-crowd",
   "metadata": {},
   "outputs": [],
   "source": [
    "petr3 = mvp.curated.CuratedData(petr3_raw,{\"MA\":[500,5000]})"
   ]
  },
  {
   "cell_type": "code",
   "execution_count": 5,
   "id": "identified-sewing",
   "metadata": {},
   "outputs": [],
   "source": [
    "parameters = {'ModelParameters':{'MA':[500,1000]}, 'OperationParameters':{'SL': 3, 'TP': 4, 'IH': 100}}"
   ]
  },
  {
   "cell_type": "code",
   "execution_count": 6,
   "metadata": {},
   "outputs": [],
   "source": [
    "model = mvp.primary.PrimaryModel(petr3_raw,'crossing-MA',parameters)"
   ]
  },
  {
   "cell_type": "code",
   "execution_count": 7,
   "metadata": {},
   "outputs": [],
   "source": [
    "delta_MA = pd.DataFrame()\n",
    "delta_MA['Delta']= (model.feature_data.df_curated['MA_500'] - model.feature_data.df_curated['MA_1000']).dropna()"
   ]
  },
  {
   "cell_type": "code",
   "execution_count": 10,
   "metadata": {},
   "outputs": [],
   "source": [
    "def sign(x):\n",
    "    if x>=0:\n",
    "        return 1\n",
    "    else:\n",
    "        return -1"
   ]
  },
  {
   "cell_type": "code",
   "execution_count": 20,
   "metadata": {},
   "outputs": [],
   "source": [
    "new_df = delta_MA['Delta'].apply(sign)\n",
    "new_df = new_df.rolling(window=2).apply(lambda x: -1 if x[0]>x[1] else (1 if x[0]<x[1] else np.nan)  ,raw=True).dropna()"
   ]
  },
  {
   "cell_type": "code",
   "execution_count": 21,
   "metadata": {},
   "outputs": [],
   "source": [
    "model.feature_data.df_curated['Delta'] = new_df"
   ]
  },
  {
   "cell_type": "code",
   "execution_count": 22,
   "metadata": {},
   "outputs": [],
   "source": [
    "final_df = model.feature_data.df_curated.drop(columns=['Open','High','Low','TickVol','Volume'])"
   ]
  },
  {
   "cell_type": "code",
   "execution_count": 23,
   "metadata": {},
   "outputs": [
    {
     "output_type": "execute_result",
     "data": {
      "text/plain": [
       "                     Close    MA_500   MA_1000  Delta\n",
       "DateTime                                             \n",
       "2015-12-04 15:00:00   8.85   9.28384   9.28390   -1.0\n",
       "2015-12-09 13:26:00   9.28   8.49476   8.49314    1.0\n",
       "2015-12-11 12:14:00   9.06   8.93374   8.93390   -1.0\n",
       "2015-12-15 14:36:00   8.69   8.61922   8.61885    1.0\n",
       "2015-12-18 11:58:00   8.35   8.68650   8.68695   -1.0\n",
       "...                    ...       ...       ...    ...\n",
       "2020-11-19 14:48:00  24.29  24.46556  24.46559   -1.0\n",
       "2020-11-20 16:08:00  24.38  24.43548  24.43509    1.0\n",
       "2020-11-26 10:52:00  26.11  26.60264  26.60307   -1.0\n",
       "2020-11-27 16:31:00  26.31  26.28854  26.28803    1.0\n",
       "2020-11-30 14:00:00  25.70  26.18320  26.18349   -1.0\n",
       "\n",
       "[591 rows x 4 columns]"
      ],
      "text/html": "<div>\n<style scoped>\n    .dataframe tbody tr th:only-of-type {\n        vertical-align: middle;\n    }\n\n    .dataframe tbody tr th {\n        vertical-align: top;\n    }\n\n    .dataframe thead th {\n        text-align: right;\n    }\n</style>\n<table border=\"1\" class=\"dataframe\">\n  <thead>\n    <tr style=\"text-align: right;\">\n      <th></th>\n      <th>Close</th>\n      <th>MA_500</th>\n      <th>MA_1000</th>\n      <th>Delta</th>\n    </tr>\n    <tr>\n      <th>DateTime</th>\n      <th></th>\n      <th></th>\n      <th></th>\n      <th></th>\n    </tr>\n  </thead>\n  <tbody>\n    <tr>\n      <th>2015-12-04 15:00:00</th>\n      <td>8.85</td>\n      <td>9.28384</td>\n      <td>9.28390</td>\n      <td>-1.0</td>\n    </tr>\n    <tr>\n      <th>2015-12-09 13:26:00</th>\n      <td>9.28</td>\n      <td>8.49476</td>\n      <td>8.49314</td>\n      <td>1.0</td>\n    </tr>\n    <tr>\n      <th>2015-12-11 12:14:00</th>\n      <td>9.06</td>\n      <td>8.93374</td>\n      <td>8.93390</td>\n      <td>-1.0</td>\n    </tr>\n    <tr>\n      <th>2015-12-15 14:36:00</th>\n      <td>8.69</td>\n      <td>8.61922</td>\n      <td>8.61885</td>\n      <td>1.0</td>\n    </tr>\n    <tr>\n      <th>2015-12-18 11:58:00</th>\n      <td>8.35</td>\n      <td>8.68650</td>\n      <td>8.68695</td>\n      <td>-1.0</td>\n    </tr>\n    <tr>\n      <th>...</th>\n      <td>...</td>\n      <td>...</td>\n      <td>...</td>\n      <td>...</td>\n    </tr>\n    <tr>\n      <th>2020-11-19 14:48:00</th>\n      <td>24.29</td>\n      <td>24.46556</td>\n      <td>24.46559</td>\n      <td>-1.0</td>\n    </tr>\n    <tr>\n      <th>2020-11-20 16:08:00</th>\n      <td>24.38</td>\n      <td>24.43548</td>\n      <td>24.43509</td>\n      <td>1.0</td>\n    </tr>\n    <tr>\n      <th>2020-11-26 10:52:00</th>\n      <td>26.11</td>\n      <td>26.60264</td>\n      <td>26.60307</td>\n      <td>-1.0</td>\n    </tr>\n    <tr>\n      <th>2020-11-27 16:31:00</th>\n      <td>26.31</td>\n      <td>26.28854</td>\n      <td>26.28803</td>\n      <td>1.0</td>\n    </tr>\n    <tr>\n      <th>2020-11-30 14:00:00</th>\n      <td>25.70</td>\n      <td>26.18320</td>\n      <td>26.18349</td>\n      <td>-1.0</td>\n    </tr>\n  </tbody>\n</table>\n<p>591 rows × 4 columns</p>\n</div>"
     },
     "metadata": {},
     "execution_count": 23
    }
   ],
   "source": [
    "final_df.dropna()"
   ]
  },
  {
   "cell_type": "code",
   "execution_count": null,
   "metadata": {},
   "outputs": [],
   "source": []
  }
 ],
 "metadata": {
  "kernelspec": {
   "display_name": "Python 3",
   "language": "python",
   "name": "python3"
  },
  "language_info": {
   "codemirror_mode": {
    "name": "ipython",
    "version": 3
   },
   "file_extension": ".py",
   "mimetype": "text/x-python",
   "name": "python",
   "nbconvert_exporter": "python",
   "pygments_lexer": "ipython3",
   "version": "3.8.5-final"
  }
 },
 "nbformat": 4,
 "nbformat_minor": 5
}
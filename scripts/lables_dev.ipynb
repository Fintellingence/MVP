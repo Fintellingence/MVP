{
 "metadata": {
  "language_info": {
   "codemirror_mode": {
    "name": "ipython",
    "version": 3
   },
   "file_extension": ".py",
   "mimetype": "text/x-python",
   "name": "python",
   "nbconvert_exporter": "python",
   "pygments_lexer": "ipython3",
   "version": "3.8.5-final"
  },
  "orig_nbformat": 2,
  "kernelspec": {
   "name": "python38564bit543ab50c907c43958a2a00c02160e790",
   "display_name": "Python 3.8.5 64-bit",
   "language": "python"
  }
 },
 "nbformat": 4,
 "nbformat_minor": 2,
 "cells": [
  {
   "cell_type": "code",
   "execution_count": 12,
   "metadata": {},
   "outputs": [],
   "source": [
    "import curated, rawdata, primary \n",
    "import pandas as pd\n",
    "import numpy as np\n",
    "import datetime as dt\n",
    "DB_PATH = '/home/naga/FintelligenceData/MetaTrader_M1.db'\n",
    "petr3_raw = rawdata.RawData('PETR3',DB_PATH)\n",
    "parameters = {'ModelParameters':{'MA':[500,1000]}, 'OperationParameters':{'SL': 0.01, 'TP': 0.08, 'IH': 3}}\n",
    "model = primary.PrimaryModel(petr3_raw,'crossing-MA',parameters)"
   ]
  },
  {
   "cell_type": "code",
   "execution_count": 13,
   "metadata": {},
   "outputs": [
    {
     "output_type": "stream",
     "name": "stdout",
     "text": [
      "Accuracy: 0.17766497461928935\n"
     ]
    }
   ],
   "source": [
    "labels = model.event_labels(model.events_crossing_MA())\n",
    "good_trades = np.count_nonzero(np.array(labels) == 1)\n",
    "bad_trades = np.count_nonzero(np.array(labels) == -1)\n",
    "neutral_trades = np.count_nonzero(np.array(labels) == 0)\n",
    "print('Accuracy: ' + str(good_trades/(len(labels))))"
   ]
  },
  {
   "cell_type": "code",
   "execution_count": 15,
   "metadata": {},
   "outputs": [
    {
     "output_type": "execute_result",
     "data": {
      "text/plain": [
       "               DateTime  Delta  Label\n",
       "0   2015-12-04 15:00:00    1.0   -1.0\n",
       "1   2015-12-09 13:26:00   -1.0    1.0\n",
       "2   2015-12-11 12:14:00    1.0   -1.0\n",
       "3   2015-12-15 14:36:00   -1.0    0.0\n",
       "4   2015-12-18 11:58:00    1.0    0.0\n",
       "..                  ...    ...    ...\n",
       "586 2020-11-19 14:48:00    1.0    0.0\n",
       "587 2020-11-20 16:08:00   -1.0    1.0\n",
       "588 2020-11-26 10:52:00    1.0   -1.0\n",
       "589 2020-11-27 16:31:00   -1.0    0.0\n",
       "590 2020-11-30 14:00:00    1.0   -1.0\n",
       "\n",
       "[591 rows x 3 columns]"
      ],
      "text/html": "<div>\n<style scoped>\n    .dataframe tbody tr th:only-of-type {\n        vertical-align: middle;\n    }\n\n    .dataframe tbody tr th {\n        vertical-align: top;\n    }\n\n    .dataframe thead th {\n        text-align: right;\n    }\n</style>\n<table border=\"1\" class=\"dataframe\">\n  <thead>\n    <tr style=\"text-align: right;\">\n      <th></th>\n      <th>DateTime</th>\n      <th>Delta</th>\n      <th>Label</th>\n    </tr>\n  </thead>\n  <tbody>\n    <tr>\n      <th>0</th>\n      <td>2015-12-04 15:00:00</td>\n      <td>1.0</td>\n      <td>-1.0</td>\n    </tr>\n    <tr>\n      <th>1</th>\n      <td>2015-12-09 13:26:00</td>\n      <td>-1.0</td>\n      <td>1.0</td>\n    </tr>\n    <tr>\n      <th>2</th>\n      <td>2015-12-11 12:14:00</td>\n      <td>1.0</td>\n      <td>-1.0</td>\n    </tr>\n    <tr>\n      <th>3</th>\n      <td>2015-12-15 14:36:00</td>\n      <td>-1.0</td>\n      <td>0.0</td>\n    </tr>\n    <tr>\n      <th>4</th>\n      <td>2015-12-18 11:58:00</td>\n      <td>1.0</td>\n      <td>0.0</td>\n    </tr>\n    <tr>\n      <th>...</th>\n      <td>...</td>\n      <td>...</td>\n      <td>...</td>\n    </tr>\n    <tr>\n      <th>586</th>\n      <td>2020-11-19 14:48:00</td>\n      <td>1.0</td>\n      <td>0.0</td>\n    </tr>\n    <tr>\n      <th>587</th>\n      <td>2020-11-20 16:08:00</td>\n      <td>-1.0</td>\n      <td>1.0</td>\n    </tr>\n    <tr>\n      <th>588</th>\n      <td>2020-11-26 10:52:00</td>\n      <td>1.0</td>\n      <td>-1.0</td>\n    </tr>\n    <tr>\n      <th>589</th>\n      <td>2020-11-27 16:31:00</td>\n      <td>-1.0</td>\n      <td>0.0</td>\n    </tr>\n    <tr>\n      <th>590</th>\n      <td>2020-11-30 14:00:00</td>\n      <td>1.0</td>\n      <td>-1.0</td>\n    </tr>\n  </tbody>\n</table>\n<p>591 rows × 3 columns</p>\n</div>"
     },
     "metadata": {},
     "execution_count": 15
    }
   ],
   "source": [
    "labeled_events = model.events_crossing_MA()\n",
    "labeled_events['Label'] = np.array(labels)\n",
    "labeled_events"
   ]
  },
  {
   "cell_type": "code",
   "execution_count": null,
   "metadata": {},
   "outputs": [],
   "source": []
  }
 ]
}